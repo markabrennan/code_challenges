{
 "cells": [
  {
   "cell_type": "code",
   "execution_count": 5,
   "metadata": {
    "collapsed": true,
    "pycharm": {
     "is_executing": false
    }
   },
   "outputs": [
    {
     "data": {
      "text/plain": "'A stabbing attack on Tuesday at a vocational college in a shopping center in Finland killed one person and injured 10 others, the police said. The suspect in the attack is a Finnish student at the college, Savo Vocational College, which is at the Herman shopping center in the city of Kuopio, the police said. The assailant “had a sabre-like bladed weapon and a firearm in possession,” and both students and staff members were injured, as well as an officer who reportedly suffered minor injuries, according to the police.Reports of the attack came in shortly after noon local time, the police said in a statement. “Upon arrest, police used a firearm,” it said. “The suspect was seriously injured in the arrest and is being treated at Kuopio University Hospital.”The area was evacuated and an investigation is underway. A student, Janette Blomberg, 16, told the Finnish newspaper Helsingin Sanomat that she had been in class when she heard a man shouting nearby. As she was leaving the area, she added, she saw blood on the floor and several wounded people.Another witness told the Finnish outlet MTV News that a teacher at the school was bleeding after being injured by a student with a sword.Prime Minister Antti Rinne called the violence “shocking and completely unacceptable” and said the government was monitoring the situation.'"
     },
     "metadata": {},
     "output_type": "execute_result",
     "execution_count": 5
    }
   ],
   "source": [
    "import pandas as pd\n",
    "\n",
    "df = pd.read_csv('ALL_NYT_WORLD.csv')\n",
    "\n",
    "df.head()\n",
    "\n",
    "\n",
    "df.iloc[0].text"
   ]
  }
 ],
 "metadata": {
  "kernelspec": {
   "display_name": "Python 3",
   "language": "python",
   "name": "python3"
  },
  "language_info": {
   "codemirror_mode": {
    "name": "ipython",
    "version": 2
   },
   "file_extension": ".py",
   "mimetype": "text/x-python",
   "name": "python",
   "nbconvert_exporter": "python",
   "pygments_lexer": "ipython2",
   "version": "2.7.6"
  },
  "pycharm": {
   "stem_cell": {
    "cell_type": "raw",
    "source": [],
    "metadata": {
     "collapsed": false
    }
   }
  }
 },
 "nbformat": 4,
 "nbformat_minor": 0
}